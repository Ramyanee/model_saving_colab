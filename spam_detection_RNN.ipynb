{
  "nbformat": 4,
  "nbformat_minor": 0,
  "metadata": {
    "colab": {
      "name": "spam_detection_RNN.ipynb",
      "provenance": [],
      "collapsed_sections": [],
      "authorship_tag": "ABX9TyMNWuI6omoizzUPQErTw3Cn",
      "include_colab_link": true
    },
    "kernelspec": {
      "name": "python3",
      "display_name": "Python 3"
    },
    "accelerator": "GPU"
  },
  "cells": [
    {
      "cell_type": "markdown",
      "metadata": {
        "id": "view-in-github",
        "colab_type": "text"
      },
      "source": [
        "<a href=\"https://colab.research.google.com/github/Ramyanee/model_saving_colab/blob/master/spam_detection_RNN.ipynb\" target=\"_parent\"><img src=\"https://colab.research.google.com/assets/colab-badge.svg\" alt=\"Open In Colab\"/></a>"
      ]
    },
    {
      "cell_type": "code",
      "metadata": {
        "id": "qzf9QG01HUOv",
        "colab_type": "code",
        "colab": {
          "base_uri": "https://localhost:8080/",
          "height": 120
        },
        "outputId": "7b377c9e-4745-4cb6-e0ce-c0c0c16c1013"
      },
      "source": [
        "from google.colab import drive\n",
        "drive.mount('/content/gdrive')"
      ],
      "execution_count": 9,
      "outputs": [
        {
          "output_type": "stream",
          "text": [
            "Go to this URL in a browser: https://accounts.google.com/o/oauth2/auth?client_id=947318989803-6bn6qk8qdgf4n4g3pfee6491hc0brc4i.apps.googleusercontent.com&redirect_uri=urn%3aietf%3awg%3aoauth%3a2.0%3aoob&response_type=code&scope=email%20https%3a%2f%2fwww.googleapis.com%2fauth%2fdocs.test%20https%3a%2f%2fwww.googleapis.com%2fauth%2fdrive%20https%3a%2f%2fwww.googleapis.com%2fauth%2fdrive.photos.readonly%20https%3a%2f%2fwww.googleapis.com%2fauth%2fpeopleapi.readonly\n",
            "\n",
            "Enter your authorization code:\n",
            "··········\n",
            "Mounted at /content/gdrive\n"
          ],
          "name": "stdout"
        }
      ]
    },
    {
      "cell_type": "code",
      "metadata": {
        "id": "t9s15L25M3P8",
        "colab_type": "code",
        "colab": {}
      },
      "source": [
        "pip install -q pyyaml h5py  # Required to save models in HDF5 format\n"
      ],
      "execution_count": 0,
      "outputs": []
    },
    {
      "cell_type": "code",
      "metadata": {
        "id": "9D7HCmL0F7eE",
        "colab_type": "code",
        "outputId": "bf706fa4-6872-4179-edf2-6c239f54b0df",
        "colab": {
          "base_uri": "https://localhost:8080/",
          "height": 33
        }
      },
      "source": [
        "import os\n",
        "\n",
        "import tensorflow as tf\n",
        "from tensorflow import keras\n",
        "\n",
        "print(tf.version.VERSION)"
      ],
      "execution_count": 11,
      "outputs": [
        {
          "output_type": "stream",
          "text": [
            "2.2.0\n"
          ],
          "name": "stdout"
        }
      ]
    },
    {
      "cell_type": "code",
      "metadata": {
        "id": "02nhUBWZM-4-",
        "colab_type": "code",
        "colab": {}
      },
      "source": [
        "checkpoint_path = \"training_1/cp.ckpt\"\n",
        "checkpoint_dir = os.path.dirname(checkpoint_path)\n",
        "\n",
        "# Create a callback that saves the model's weights\n",
        "cp_callback = tf.keras.callbacks.ModelCheckpoint(filepath=checkpoint_path,\n",
        "                                                 save_weights_only=True,\n",
        "                                                 verbose=1)\n"
      ],
      "execution_count": 0,
      "outputs": []
    },
    {
      "cell_type": "code",
      "metadata": {
        "id": "vMhf4cHDM-8L",
        "colab_type": "code",
        "colab": {}
      },
      "source": [
        ""
      ],
      "execution_count": 0,
      "outputs": []
    },
    {
      "cell_type": "code",
      "metadata": {
        "id": "1Nxu_GQCH0T-",
        "colab_type": "code",
        "colab": {}
      },
      "source": [
        "import numpy as np\n",
        "import pandas as pd\n",
        "import matplotlib.pyplot as plt\n",
        "from sklearn.model_selection import train_test_split as tts"
      ],
      "execution_count": 0,
      "outputs": []
    },
    {
      "cell_type": "code",
      "metadata": {
        "id": "_ZkRvbfBJGcA",
        "colab_type": "code",
        "outputId": "c1f10513-554f-4a29-f614-3e5fc9054419",
        "colab": {
          "base_uri": "https://localhost:8080/",
          "height": 221
        }
      },
      "source": [
        "!wget https://lazyprogrammer.me/course_files/spam.csv"
      ],
      "execution_count": 14,
      "outputs": [
        {
          "output_type": "stream",
          "text": [
            "--2020-05-14 08:50:32--  https://lazyprogrammer.me/course_files/spam.csv\n",
            "Resolving lazyprogrammer.me (lazyprogrammer.me)... 104.31.81.48, 104.31.80.48, 2606:4700:3037::681f:5030, ...\n",
            "Connecting to lazyprogrammer.me (lazyprogrammer.me)|104.31.81.48|:443... connected.\n",
            "HTTP request sent, awaiting response... 200 OK\n",
            "Length: 503663 (492K) [text/csv]\n",
            "Saving to: ‘spam.csv’\n",
            "\n",
            "\rspam.csv              0%[                    ]       0  --.-KB/s               \rspam.csv            100%[===================>] 491.86K  --.-KB/s    in 0.01s   \n",
            "\n",
            "2020-05-14 08:50:32 (36.2 MB/s) - ‘spam.csv’ saved [503663/503663]\n",
            "\n"
          ],
          "name": "stdout"
        }
      ]
    },
    {
      "cell_type": "code",
      "metadata": {
        "id": "ROwcApHpQW4S",
        "colab_type": "code",
        "colab": {}
      },
      "source": [
        "df = pd.read_csv(\"spam.csv\", encoding = 'ISO-8859-1')"
      ],
      "execution_count": 0,
      "outputs": []
    },
    {
      "cell_type": "code",
      "metadata": {
        "id": "RjlMRVe0JXoW",
        "colab_type": "code",
        "outputId": "e1d67e43-34e8-4358-ac20-d605438ab160",
        "colab": {
          "base_uri": "https://localhost:8080/",
          "height": 246
        }
      },
      "source": [
        "df.head()"
      ],
      "execution_count": 16,
      "outputs": [
        {
          "output_type": "execute_result",
          "data": {
            "text/html": [
              "<div>\n",
              "<style scoped>\n",
              "    .dataframe tbody tr th:only-of-type {\n",
              "        vertical-align: middle;\n",
              "    }\n",
              "\n",
              "    .dataframe tbody tr th {\n",
              "        vertical-align: top;\n",
              "    }\n",
              "\n",
              "    .dataframe thead th {\n",
              "        text-align: right;\n",
              "    }\n",
              "</style>\n",
              "<table border=\"1\" class=\"dataframe\">\n",
              "  <thead>\n",
              "    <tr style=\"text-align: right;\">\n",
              "      <th></th>\n",
              "      <th>v1</th>\n",
              "      <th>v2</th>\n",
              "      <th>Unnamed: 2</th>\n",
              "      <th>Unnamed: 3</th>\n",
              "      <th>Unnamed: 4</th>\n",
              "    </tr>\n",
              "  </thead>\n",
              "  <tbody>\n",
              "    <tr>\n",
              "      <th>0</th>\n",
              "      <td>ham</td>\n",
              "      <td>Go until jurong point, crazy.. Available only ...</td>\n",
              "      <td>NaN</td>\n",
              "      <td>NaN</td>\n",
              "      <td>NaN</td>\n",
              "    </tr>\n",
              "    <tr>\n",
              "      <th>1</th>\n",
              "      <td>ham</td>\n",
              "      <td>Ok lar... Joking wif u oni...</td>\n",
              "      <td>NaN</td>\n",
              "      <td>NaN</td>\n",
              "      <td>NaN</td>\n",
              "    </tr>\n",
              "    <tr>\n",
              "      <th>2</th>\n",
              "      <td>spam</td>\n",
              "      <td>Free entry in 2 a wkly comp to win FA Cup fina...</td>\n",
              "      <td>NaN</td>\n",
              "      <td>NaN</td>\n",
              "      <td>NaN</td>\n",
              "    </tr>\n",
              "    <tr>\n",
              "      <th>3</th>\n",
              "      <td>ham</td>\n",
              "      <td>U dun say so early hor... U c already then say...</td>\n",
              "      <td>NaN</td>\n",
              "      <td>NaN</td>\n",
              "      <td>NaN</td>\n",
              "    </tr>\n",
              "    <tr>\n",
              "      <th>4</th>\n",
              "      <td>ham</td>\n",
              "      <td>Nah I don't think he goes to usf, he lives aro...</td>\n",
              "      <td>NaN</td>\n",
              "      <td>NaN</td>\n",
              "      <td>NaN</td>\n",
              "    </tr>\n",
              "  </tbody>\n",
              "</table>\n",
              "</div>"
            ],
            "text/plain": [
              "     v1  ... Unnamed: 4\n",
              "0   ham  ...        NaN\n",
              "1   ham  ...        NaN\n",
              "2  spam  ...        NaN\n",
              "3   ham  ...        NaN\n",
              "4   ham  ...        NaN\n",
              "\n",
              "[5 rows x 5 columns]"
            ]
          },
          "metadata": {
            "tags": []
          },
          "execution_count": 16
        }
      ]
    },
    {
      "cell_type": "code",
      "metadata": {
        "id": "4qHOl1RHUDMd",
        "colab_type": "code",
        "colab": {}
      },
      "source": [
        "df = df.drop([\"Unnamed: 2\", \"Unnamed: 3\", \"Unnamed: 4\"], axis=1)"
      ],
      "execution_count": 0,
      "outputs": []
    },
    {
      "cell_type": "code",
      "metadata": {
        "id": "S23qpGp9QUuH",
        "colab_type": "code",
        "outputId": "37113843-09e9-4a54-e272-46b08450ab61",
        "colab": {
          "base_uri": "https://localhost:8080/",
          "height": 196
        }
      },
      "source": [
        "df.head()"
      ],
      "execution_count": 18,
      "outputs": [
        {
          "output_type": "execute_result",
          "data": {
            "text/html": [
              "<div>\n",
              "<style scoped>\n",
              "    .dataframe tbody tr th:only-of-type {\n",
              "        vertical-align: middle;\n",
              "    }\n",
              "\n",
              "    .dataframe tbody tr th {\n",
              "        vertical-align: top;\n",
              "    }\n",
              "\n",
              "    .dataframe thead th {\n",
              "        text-align: right;\n",
              "    }\n",
              "</style>\n",
              "<table border=\"1\" class=\"dataframe\">\n",
              "  <thead>\n",
              "    <tr style=\"text-align: right;\">\n",
              "      <th></th>\n",
              "      <th>v1</th>\n",
              "      <th>v2</th>\n",
              "    </tr>\n",
              "  </thead>\n",
              "  <tbody>\n",
              "    <tr>\n",
              "      <th>0</th>\n",
              "      <td>ham</td>\n",
              "      <td>Go until jurong point, crazy.. Available only ...</td>\n",
              "    </tr>\n",
              "    <tr>\n",
              "      <th>1</th>\n",
              "      <td>ham</td>\n",
              "      <td>Ok lar... Joking wif u oni...</td>\n",
              "    </tr>\n",
              "    <tr>\n",
              "      <th>2</th>\n",
              "      <td>spam</td>\n",
              "      <td>Free entry in 2 a wkly comp to win FA Cup fina...</td>\n",
              "    </tr>\n",
              "    <tr>\n",
              "      <th>3</th>\n",
              "      <td>ham</td>\n",
              "      <td>U dun say so early hor... U c already then say...</td>\n",
              "    </tr>\n",
              "    <tr>\n",
              "      <th>4</th>\n",
              "      <td>ham</td>\n",
              "      <td>Nah I don't think he goes to usf, he lives aro...</td>\n",
              "    </tr>\n",
              "  </tbody>\n",
              "</table>\n",
              "</div>"
            ],
            "text/plain": [
              "     v1                                                 v2\n",
              "0   ham  Go until jurong point, crazy.. Available only ...\n",
              "1   ham                      Ok lar... Joking wif u oni...\n",
              "2  spam  Free entry in 2 a wkly comp to win FA Cup fina...\n",
              "3   ham  U dun say so early hor... U c already then say...\n",
              "4   ham  Nah I don't think he goes to usf, he lives aro..."
            ]
          },
          "metadata": {
            "tags": []
          },
          "execution_count": 18
        }
      ]
    },
    {
      "cell_type": "code",
      "metadata": {
        "id": "vBcu8Dyaj-Jk",
        "colab_type": "code",
        "colab": {}
      },
      "source": [
        "df.columns = ['labels','data']"
      ],
      "execution_count": 0,
      "outputs": []
    },
    {
      "cell_type": "code",
      "metadata": {
        "id": "bLL7n9x8kFso",
        "colab_type": "code",
        "outputId": "97f7b7c5-c31f-44ab-8824-b0a46c0b2c42",
        "colab": {
          "base_uri": "https://localhost:8080/",
          "height": 196
        }
      },
      "source": [
        "df.head()"
      ],
      "execution_count": 20,
      "outputs": [
        {
          "output_type": "execute_result",
          "data": {
            "text/html": [
              "<div>\n",
              "<style scoped>\n",
              "    .dataframe tbody tr th:only-of-type {\n",
              "        vertical-align: middle;\n",
              "    }\n",
              "\n",
              "    .dataframe tbody tr th {\n",
              "        vertical-align: top;\n",
              "    }\n",
              "\n",
              "    .dataframe thead th {\n",
              "        text-align: right;\n",
              "    }\n",
              "</style>\n",
              "<table border=\"1\" class=\"dataframe\">\n",
              "  <thead>\n",
              "    <tr style=\"text-align: right;\">\n",
              "      <th></th>\n",
              "      <th>labels</th>\n",
              "      <th>data</th>\n",
              "    </tr>\n",
              "  </thead>\n",
              "  <tbody>\n",
              "    <tr>\n",
              "      <th>0</th>\n",
              "      <td>ham</td>\n",
              "      <td>Go until jurong point, crazy.. Available only ...</td>\n",
              "    </tr>\n",
              "    <tr>\n",
              "      <th>1</th>\n",
              "      <td>ham</td>\n",
              "      <td>Ok lar... Joking wif u oni...</td>\n",
              "    </tr>\n",
              "    <tr>\n",
              "      <th>2</th>\n",
              "      <td>spam</td>\n",
              "      <td>Free entry in 2 a wkly comp to win FA Cup fina...</td>\n",
              "    </tr>\n",
              "    <tr>\n",
              "      <th>3</th>\n",
              "      <td>ham</td>\n",
              "      <td>U dun say so early hor... U c already then say...</td>\n",
              "    </tr>\n",
              "    <tr>\n",
              "      <th>4</th>\n",
              "      <td>ham</td>\n",
              "      <td>Nah I don't think he goes to usf, he lives aro...</td>\n",
              "    </tr>\n",
              "  </tbody>\n",
              "</table>\n",
              "</div>"
            ],
            "text/plain": [
              "  labels                                               data\n",
              "0    ham  Go until jurong point, crazy.. Available only ...\n",
              "1    ham                      Ok lar... Joking wif u oni...\n",
              "2   spam  Free entry in 2 a wkly comp to win FA Cup fina...\n",
              "3    ham  U dun say so early hor... U c already then say...\n",
              "4    ham  Nah I don't think he goes to usf, he lives aro..."
            ]
          },
          "metadata": {
            "tags": []
          },
          "execution_count": 20
        }
      ]
    },
    {
      "cell_type": "code",
      "metadata": {
        "id": "LFzgsuK9pr9o",
        "colab_type": "code",
        "outputId": "3109c6ce-91e8-4141-d54a-3c36f725ca93",
        "colab": {
          "base_uri": "https://localhost:8080/",
          "height": 70
        }
      },
      "source": [
        "df.b_labels = df.labels.map({'ham':0,'spam':1})"
      ],
      "execution_count": 21,
      "outputs": [
        {
          "output_type": "stream",
          "text": [
            "/usr/local/lib/python3.6/dist-packages/ipykernel_launcher.py:1: UserWarning: Pandas doesn't allow columns to be created via a new attribute name - see https://pandas.pydata.org/pandas-docs/stable/indexing.html#attribute-access\n",
            "  \"\"\"Entry point for launching an IPython kernel.\n"
          ],
          "name": "stderr"
        }
      ]
    },
    {
      "cell_type": "code",
      "metadata": {
        "id": "6HLltUDcp3dk",
        "colab_type": "code",
        "outputId": "b6b080aa-fdd7-4b7a-97aa-3c6c6cc3aa21",
        "colab": {
          "base_uri": "https://localhost:8080/",
          "height": 217
        }
      },
      "source": [
        "df.b_labels"
      ],
      "execution_count": 22,
      "outputs": [
        {
          "output_type": "execute_result",
          "data": {
            "text/plain": [
              "0       0\n",
              "1       0\n",
              "2       1\n",
              "3       0\n",
              "4       0\n",
              "       ..\n",
              "5567    1\n",
              "5568    0\n",
              "5569    0\n",
              "5570    0\n",
              "5571    0\n",
              "Name: labels, Length: 5572, dtype: int64"
            ]
          },
          "metadata": {
            "tags": []
          },
          "execution_count": 22
        }
      ]
    },
    {
      "cell_type": "code",
      "metadata": {
        "id": "1Hz2XvvhqLFS",
        "colab_type": "code",
        "colab": {}
      },
      "source": [
        "Y = df.b_labels.values"
      ],
      "execution_count": 0,
      "outputs": []
    },
    {
      "cell_type": "code",
      "metadata": {
        "id": "ys9sD8XmKc3-",
        "colab_type": "code",
        "colab": {}
      },
      "source": [
        "df_train, df_test, ytrain, ytest = tts(df.data,Y, test_size = 0.33)"
      ],
      "execution_count": 0,
      "outputs": []
    },
    {
      "cell_type": "code",
      "metadata": {
        "id": "zAKMQMwwK67P",
        "colab_type": "code",
        "colab": {}
      },
      "source": [
        "from tensorflow.keras.preprocessing.text import Tokenizer as tk"
      ],
      "execution_count": 0,
      "outputs": []
    },
    {
      "cell_type": "code",
      "metadata": {
        "id": "f_jNgnz-LSbW",
        "colab_type": "code",
        "colab": {}
      },
      "source": [
        "MAX_VOCAB = 20000\n",
        "tknzr = tk(num_words = MAX_VOCAB)\n",
        "tknzr.fit_on_texts(df_train)\n",
        "sq_train = tknzr.texts_to_sequences(df_train)\n",
        "sq_test = tknzr.texts_to_sequences(df_test)"
      ],
      "execution_count": 0,
      "outputs": []
    },
    {
      "cell_type": "code",
      "metadata": {
        "id": "7MO7oeJ6MMlO",
        "colab_type": "code",
        "colab": {}
      },
      "source": [
        "w2i = tknzr.word_index"
      ],
      "execution_count": 0,
      "outputs": []
    },
    {
      "cell_type": "code",
      "metadata": {
        "id": "WQy2ckjdMc4N",
        "colab_type": "code",
        "colab": {}
      },
      "source": [
        "V = len(w2i)"
      ],
      "execution_count": 0,
      "outputs": []
    },
    {
      "cell_type": "code",
      "metadata": {
        "id": "glIBr1gkMdnf",
        "colab_type": "code",
        "outputId": "10a3d4a4-6fc6-44dc-d7d9-0f5b53ff5bdd",
        "colab": {
          "base_uri": "https://localhost:8080/",
          "height": 33
        }
      },
      "source": [
        "V"
      ],
      "execution_count": 29,
      "outputs": [
        {
          "output_type": "execute_result",
          "data": {
            "text/plain": [
              "7234"
            ]
          },
          "metadata": {
            "tags": []
          },
          "execution_count": 29
        }
      ]
    },
    {
      "cell_type": "code",
      "metadata": {
        "id": "okAXBL63MloL",
        "colab_type": "code",
        "colab": {}
      },
      "source": [
        "from tensorflow.keras.preprocessing.sequence import pad_sequences as pd_sq"
      ],
      "execution_count": 0,
      "outputs": []
    },
    {
      "cell_type": "code",
      "metadata": {
        "id": "EG5-QkbqNEBq",
        "colab_type": "code",
        "colab": {}
      },
      "source": [
        "data_train = pd_sq(sq_train)"
      ],
      "execution_count": 0,
      "outputs": []
    },
    {
      "cell_type": "code",
      "metadata": {
        "id": "z6U04HFaNg8n",
        "colab_type": "code",
        "outputId": "c36ac79d-6c7c-4735-8cb4-70c724d5908e",
        "colab": {
          "base_uri": "https://localhost:8080/",
          "height": 33
        }
      },
      "source": [
        "data_train.shape # N * T"
      ],
      "execution_count": 32,
      "outputs": [
        {
          "output_type": "execute_result",
          "data": {
            "text/plain": [
              "(3733, 189)"
            ]
          },
          "metadata": {
            "tags": []
          },
          "execution_count": 32
        }
      ]
    },
    {
      "cell_type": "code",
      "metadata": {
        "id": "cpInnrCZOGIh",
        "colab_type": "code",
        "colab": {}
      },
      "source": [
        "T = data_train.shape[1]"
      ],
      "execution_count": 0,
      "outputs": []
    },
    {
      "cell_type": "code",
      "metadata": {
        "id": "J-ZB_P6QOVZk",
        "colab_type": "code",
        "colab": {}
      },
      "source": [
        "data_test = pd_sq(sq_test, maxlen = T)"
      ],
      "execution_count": 0,
      "outputs": []
    },
    {
      "cell_type": "code",
      "metadata": {
        "id": "-Y0vfxLbOi6t",
        "colab_type": "code",
        "outputId": "66fb8bb7-aa85-4cf8-a177-060f2fe677f4",
        "colab": {
          "base_uri": "https://localhost:8080/",
          "height": 33
        }
      },
      "source": [
        "data_train.shape"
      ],
      "execution_count": 35,
      "outputs": [
        {
          "output_type": "execute_result",
          "data": {
            "text/plain": [
              "(3733, 189)"
            ]
          },
          "metadata": {
            "tags": []
          },
          "execution_count": 35
        }
      ]
    },
    {
      "cell_type": "code",
      "metadata": {
        "id": "W1TFZKFkOngY",
        "colab_type": "code",
        "colab": {}
      },
      "source": [
        "#creating the model"
      ],
      "execution_count": 0,
      "outputs": []
    },
    {
      "cell_type": "code",
      "metadata": {
        "id": "KmypFG0lPUs0",
        "colab_type": "code",
        "colab": {}
      },
      "source": [
        "from tensorflow.keras.layers import Dense, Input, GlobalMaxPooling1D, LSTM, Embedding\n",
        "from tensorflow.keras.models import Model\n"
      ],
      "execution_count": 0,
      "outputs": []
    },
    {
      "cell_type": "code",
      "metadata": {
        "id": "-lqvmtkhPqCO",
        "colab_type": "code",
        "colab": {}
      },
      "source": [
        "#embedding dimensionality\n",
        "D = 20\n",
        "# hidden state dimensionality\n",
        "M =15\n",
        "\n",
        "i = Input(shape = (T,) )\n",
        "x=  Embedding(V+1,D)(i)\n",
        "x=LSTM(M, return_sequences=True)(x)\n",
        "x=GlobalMaxPooling1D()(x)\n",
        "x= Dense(1, activation='sigmoid')(x)\n",
        "\n",
        "model = Model(i,x)"
      ],
      "execution_count": 0,
      "outputs": []
    },
    {
      "cell_type": "code",
      "metadata": {
        "id": "XmFJ5svUW9OF",
        "colab_type": "code",
        "colab": {}
      },
      "source": [
        "model.compile(\n",
        "    loss= 'binary_crossentropy',\n",
        "    optimizer = 'adam',\n",
        "    metrics = ['accuracy']\n",
        ")"
      ],
      "execution_count": 0,
      "outputs": []
    },
    {
      "cell_type": "code",
      "metadata": {
        "id": "hDD_42tRaDWZ",
        "colab_type": "code",
        "outputId": "5ee810e4-3f4a-4ee2-e1bc-5bde2f1f3869",
        "colab": {
          "base_uri": "https://localhost:8080/",
          "height": 706
        }
      },
      "source": [
        "r  = model.fit(\n",
        "    data_train,\n",
        "    ytrain,\n",
        "    epochs = 10,\n",
        "    validation_data = (data_test, ytest),\n",
        "    callbacks=[cp_callback]\n",
        "\n",
        ")\n"
      ],
      "execution_count": 40,
      "outputs": [
        {
          "output_type": "stream",
          "text": [
            "Epoch 1/10\n",
            "117/117 [==============================] - ETA: 0s - loss: 0.4701 - accuracy: 0.8519\n",
            "Epoch 00001: saving model to training_1/cp.ckpt\n",
            "117/117 [==============================] - 5s 40ms/step - loss: 0.4701 - accuracy: 0.8519 - val_loss: 0.3934 - val_accuracy: 0.8662\n",
            "Epoch 2/10\n",
            "117/117 [==============================] - ETA: 0s - loss: 0.3940 - accuracy: 0.8658\n",
            "Epoch 00002: saving model to training_1/cp.ckpt\n",
            "117/117 [==============================] - 4s 36ms/step - loss: 0.3940 - accuracy: 0.8658 - val_loss: 0.3923 - val_accuracy: 0.8662\n",
            "Epoch 3/10\n",
            "117/117 [==============================] - ETA: 0s - loss: 0.3917 - accuracy: 0.8658\n",
            "Epoch 00003: saving model to training_1/cp.ckpt\n",
            "117/117 [==============================] - 4s 36ms/step - loss: 0.3917 - accuracy: 0.8658 - val_loss: 0.3881 - val_accuracy: 0.8662\n",
            "Epoch 4/10\n",
            "117/117 [==============================] - ETA: 0s - loss: 0.3806 - accuracy: 0.8658\n",
            "Epoch 00004: saving model to training_1/cp.ckpt\n",
            "117/117 [==============================] - 4s 36ms/step - loss: 0.3806 - accuracy: 0.8658 - val_loss: 0.3623 - val_accuracy: 0.8662\n",
            "Epoch 5/10\n",
            "117/117 [==============================] - ETA: 0s - loss: 0.2622 - accuracy: 0.8923\n",
            "Epoch 00005: saving model to training_1/cp.ckpt\n",
            "117/117 [==============================] - 4s 36ms/step - loss: 0.2622 - accuracy: 0.8923 - val_loss: 0.1940 - val_accuracy: 0.9690\n",
            "Epoch 6/10\n",
            "117/117 [==============================] - ETA: 0s - loss: 0.1068 - accuracy: 0.9877\n",
            "Epoch 00006: saving model to training_1/cp.ckpt\n",
            "117/117 [==============================] - 4s 36ms/step - loss: 0.1068 - accuracy: 0.9877 - val_loss: 0.0975 - val_accuracy: 0.9826\n",
            "Epoch 7/10\n",
            "117/117 [==============================] - ETA: 0s - loss: 0.0557 - accuracy: 0.9922\n",
            "Epoch 00007: saving model to training_1/cp.ckpt\n",
            "117/117 [==============================] - 4s 37ms/step - loss: 0.0557 - accuracy: 0.9922 - val_loss: 0.0760 - val_accuracy: 0.9837\n",
            "Epoch 8/10\n",
            "117/117 [==============================] - ETA: 0s - loss: 0.0363 - accuracy: 0.9946\n",
            "Epoch 00008: saving model to training_1/cp.ckpt\n",
            "117/117 [==============================] - 4s 36ms/step - loss: 0.0363 - accuracy: 0.9946 - val_loss: 0.0669 - val_accuracy: 0.9842\n",
            "Epoch 9/10\n",
            "117/117 [==============================] - ETA: 0s - loss: 0.0249 - accuracy: 0.9962\n",
            "Epoch 00009: saving model to training_1/cp.ckpt\n",
            "117/117 [==============================] - 4s 35ms/step - loss: 0.0249 - accuracy: 0.9962 - val_loss: 0.0647 - val_accuracy: 0.9842\n",
            "Epoch 10/10\n",
            "117/117 [==============================] - ETA: 0s - loss: 0.0212 - accuracy: 0.9971\n",
            "Epoch 00010: saving model to training_1/cp.ckpt\n",
            "117/117 [==============================] - 4s 36ms/step - loss: 0.0212 - accuracy: 0.9971 - val_loss: 0.0598 - val_accuracy: 0.9859\n"
          ],
          "name": "stdout"
        }
      ]
    },
    {
      "cell_type": "code",
      "metadata": {
        "id": "d6RC6FLfIJZV",
        "colab_type": "code",
        "colab": {
          "base_uri": "https://localhost:8080/",
          "height": 70
        },
        "outputId": "5a7b5b88-7304-4166-eede-816628691d9d"
      },
      "source": [
        "model.evaluate(data_test, ytest)"
      ],
      "execution_count": 41,
      "outputs": [
        {
          "output_type": "stream",
          "text": [
            "58/58 [==============================] - 1s 12ms/step - loss: 0.0598 - accuracy: 0.9859\n"
          ],
          "name": "stdout"
        },
        {
          "output_type": "execute_result",
          "data": {
            "text/plain": [
              "[0.0597555972635746, 0.9858618974685669]"
            ]
          },
          "metadata": {
            "tags": []
          },
          "execution_count": 41
        }
      ]
    },
    {
      "cell_type": "code",
      "metadata": {
        "id": "e025qIYNaXtx",
        "colab_type": "code",
        "outputId": "57d0f232-6629-46cb-febe-de50158e3e14",
        "colab": {
          "base_uri": "https://localhost:8080/",
          "height": 281
        }
      },
      "source": [
        "plt.plot(r.history['loss'], label = 'loss ')\n",
        "plt.plot(r.history['val_loss'], label = 'val_loss')\n",
        "plt.legend()"
      ],
      "execution_count": 42,
      "outputs": [
        {
          "output_type": "execute_result",
          "data": {
            "text/plain": [
              "<matplotlib.legend.Legend at 0x7f94a4ec5c50>"
            ]
          },
          "metadata": {
            "tags": []
          },
          "execution_count": 42
        },
        {
          "output_type": "display_data",
          "data": {
            "image/png": "[encoded data removed]",
            "text/plain": [
              "<Figure size 432x288 with 1 Axes>"
            ]
          },
          "metadata": {
            "tags": [],
            "needs_background": "light"
          }
        }
      ]
    },
    {
      "cell_type": "code",
      "metadata": {
        "id": "K-d9upW6bW23",
        "colab_type": "code",
        "colab": {}
      },
      "source": [
        "def create_model():  \n",
        "  #embedding dimensionality\n",
        "  D = 20\n",
        "  # hidden state dimensionality\n",
        "  M =15\n",
        "\n",
        "  i = Input(shape = (T,) )\n",
        "  x=  Embedding(V+1,D)(i)\n",
        "  x=LSTM(M, return_sequences=True)(x)\n",
        "  x=GlobalMaxPooling1D()(x)\n",
        "  x= Dense(1, activation='sigmoid')(x)\n",
        "\n",
        "  model = Model(i,x)\n",
        "  model.compile(\n",
        "      loss= 'binary_crossentropy',\n",
        "      optimizer = 'adam',\n",
        "      metrics = ['accuracy']\n",
        "  )\n",
        "  return model"
      ],
      "execution_count": 0,
      "outputs": []
    },
    {
      "cell_type": "code",
      "metadata": {
        "id": "HgAw7ve9OSOO",
        "colab_type": "code",
        "colab": {
          "base_uri": "https://localhost:8080/",
          "height": 70
        },
        "outputId": "2e26d047-1b7c-412e-b3bc-cc11a51c8da9"
      },
      "source": [
        "model2 = create_model()\n",
        "model2.evaluate(data_test, ytest)"
      ],
      "execution_count": 54,
      "outputs": [
        {
          "output_type": "stream",
          "text": [
            "58/58 [==============================] - 1s 12ms/step - loss: 0.6957 - accuracy: 0.2621\n"
          ],
          "name": "stdout"
        },
        {
          "output_type": "execute_result",
          "data": {
            "text/plain": [
              "[0.6956961750984192, 0.2620989680290222]"
            ]
          },
          "metadata": {
            "tags": []
          },
          "execution_count": 54
        }
      ]
    },
    {
      "cell_type": "code",
      "metadata": {
        "id": "mjTAF6IDOSsw",
        "colab_type": "code",
        "colab": {
          "base_uri": "https://localhost:8080/",
          "height": 50
        },
        "outputId": "5d8905fa-e03e-48db-baae-c424d681ff79"
      },
      "source": [
        "ls {checkpoint_dir}"
      ],
      "execution_count": 49,
      "outputs": [
        {
          "output_type": "stream",
          "text": [
            "checkpoint                   cp.ckpt.data-00001-of-00002\n",
            "cp.ckpt.data-00000-of-00002  cp.ckpt.index\n"
          ],
          "name": "stdout"
        }
      ]
    },
    {
      "cell_type": "code",
      "metadata": {
        "id": "0ULzURLUOSwj",
        "colab_type": "code",
        "colab": {
          "base_uri": "https://localhost:8080/",
          "height": 50
        },
        "outputId": "8b892d64-12eb-4162-e401-1b11324a0336"
      },
      "source": [
        "# Loads the weights\n",
        "model2.load_weights(\"training_1/cp.ckpt\")\n",
        "\n",
        "# Re-evaluate the model\n",
        "loss,acc = model2.evaluate(data_test, ytest, verbose=2)\n",
        "print(\"Restored model, accuracy: {:5.2f}%\".format(100*acc))"
      ],
      "execution_count": 55,
      "outputs": [
        {
          "output_type": "stream",
          "text": [
            "58/58 - 1s - loss: 0.0598 - accuracy: 0.9859\n",
            "Restored model, accuracy: 98.59%\n"
          ],
          "name": "stdout"
        }
      ]
    },
    {
      "cell_type": "markdown",
      "metadata": {
        "id": "SNzqriJQe64e",
        "colab_type": "text"
      },
      "source": [
        "SAVING EVERY 2 EPOCH, WITH EPOCH NAME IN THE CHECKPOINTS"
      ]
    },
    {
      "cell_type": "code",
      "metadata": {
        "id": "hRrcZ2IVOSzg",
        "colab_type": "code",
        "colab": {
          "base_uri": "https://localhost:8080/",
          "height": 70
        },
        "outputId": "f85b7f22-a160-4f05-d083-f87a54ea7492"
      },
      "source": [
        "model3 = create_model()\n",
        "model3.evaluate(data_test, ytest)"
      ],
      "execution_count": 58,
      "outputs": [
        {
          "output_type": "stream",
          "text": [
            "58/58 [==============================] - 1s 12ms/step - loss: 0.6871 - accuracy: 0.8662\n"
          ],
          "name": "stdout"
        },
        {
          "output_type": "execute_result",
          "data": {
            "text/plain": [
              "[0.6870725750923157, 0.8662316203117371]"
            ]
          },
          "metadata": {
            "tags": []
          },
          "execution_count": 58
        }
      ]
    },
    {
      "cell_type": "code",
      "metadata": {
        "id": "2JDXIN5VZP8O",
        "colab_type": "code",
        "colab": {}
      },
      "source": [
        "# Include the epoch in the file name (uses `str.format`)\n",
        "checkpoint_path = \"training_2/cp-{epoch:04d}.ckpt\"\n",
        "checkpoint_dir = os.path.dirname(checkpoint_path)\n",
        "\n",
        "# Create a callback that saves the model's weights every 2 epochs\n",
        "cp_callback = tf.keras.callbacks.ModelCheckpoint(\n",
        "    filepath=checkpoint_path, \n",
        "    verbose=1, \n",
        "    save_weights_only=True,\n",
        "    save_freq=2)"
      ],
      "execution_count": 0,
      "outputs": []
    },
    {
      "cell_type": "code",
      "metadata": {
        "id": "ZZbtlnqBaPT2",
        "colab_type": "code",
        "colab": {}
      },
      "source": [
        "model3.save_weights(checkpoint_path.format(epoch=0))"
      ],
      "execution_count": 0,
      "outputs": []
    },
    {
      "cell_type": "code",
      "metadata": {
        "id": "Rnww_0ffagGe",
        "colab_type": "code",
        "colab": {
          "base_uri": "https://localhost:8080/",
          "height": 1000
        },
        "outputId": "6131b581-21c3-4c09-f644-44fbf92c785e"
      },
      "source": [
        "r  = model3.fit(\n",
        "    data_train,\n",
        "    ytrain,\n",
        "    epochs = 10,\n",
        "    validation_data = (data_test, ytest),\n",
        "    callbacks=[cp_callback],\n",
        "    verbose = 0\n",
        "\n",
        ")"
      ],
      "execution_count": 65,
      "outputs": [
        {
          "output_type": "stream",
          "text": [
            "\n",
            "Epoch 00001: saving model to training_2/cp-0001.ckpt\n",
            "\n",
            "Epoch 00001: saving model to training_2/cp-0001.ckpt\n",
            "\n",
            "Epoch 00001: saving model to training_2/cp-0001.ckpt\n",
            "\n",
            "Epoch 00001: saving model to training_2/cp-0001.ckpt\n",
            "\n",
            "Epoch 00001: saving model to training_2/cp-0001.ckpt\n",
            "\n",
            "Epoch 00001: saving model to training_2/cp-0001.ckpt\n",
            "\n",
            "Epoch 00001: saving model to training_2/cp-0001.ckpt\n",
            "\n",
            "Epoch 00001: saving model to training_2/cp-0001.ckpt\n",
            "\n",
            "Epoch 00001: saving model to training_2/cp-0001.ckpt\n",
            "\n",
            "Epoch 00001: saving model to training_2/cp-0001.ckpt\n",
            "\n",
            "Epoch 00001: saving model to training_2/cp-0001.ckpt\n",
            "\n",
            "Epoch 00001: saving model to training_2/cp-0001.ckpt\n",
            "\n",
            "Epoch 00001: saving model to training_2/cp-0001.ckpt\n",
            "\n",
            "Epoch 00001: saving model to training_2/cp-0001.ckpt\n",
            "\n",
            "Epoch 00001: saving model to training_2/cp-0001.ckpt\n",
            "\n",
            "Epoch 00001: saving model to training_2/cp-0001.ckpt\n",
            "\n",
            "Epoch 00001: saving model to training_2/cp-0001.ckpt\n",
            "\n",
            "Epoch 00001: saving model to training_2/cp-0001.ckpt\n",
            "\n",
            "Epoch 00001: saving model to training_2/cp-0001.ckpt\n",
            "\n",
            "Epoch 00001: saving model to training_2/cp-0001.ckpt\n",
            "\n",
            "Epoch 00001: saving model to training_2/cp-0001.ckpt\n",
            "\n",
            "Epoch 00001: saving model to training_2/cp-0001.ckpt\n",
            "\n",
            "Epoch 00001: saving model to training_2/cp-0001.ckpt\n",
            "\n",
            "Epoch 00001: saving model to training_2/cp-0001.ckpt\n",
            "\n",
            "Epoch 00001: saving model to training_2/cp-0001.ckpt\n",
            "\n",
            "Epoch 00001: saving model to training_2/cp-0001.ckpt\n",
            "\n",
            "Epoch 00001: saving model to training_2/cp-0001.ckpt\n",
            "\n",
            "Epoch 00001: saving model to training_2/cp-0001.ckpt\n",
            "\n",
            "Epoch 00001: saving model to training_2/cp-0001.ckpt\n",
            "\n",
            "Epoch 00001: saving model to training_2/cp-0001.ckpt\n",
            "\n",
            "Epoch 00001: saving model to training_2/cp-0001.ckpt\n",
            "\n",
            "Epoch 00001: saving model to training_2/cp-0001.ckpt\n",
            "\n",
            "Epoch 00001: saving model to training_2/cp-0001.ckpt\n",
            "\n",
            "Epoch 00001: saving model to training_2/cp-0001.ckpt\n",
            "\n",
            "Epoch 00001: saving model to training_2/cp-0001.ckpt\n",
            "\n",
            "Epoch 00001: saving model to training_2/cp-0001.ckpt\n",
            "\n",
            "Epoch 00001: saving model to training_2/cp-0001.ckpt\n",
            "\n",
            "Epoch 00001: saving model to training_2/cp-0001.ckpt\n",
            "\n",
            "Epoch 00001: saving model to training_2/cp-0001.ckpt\n",
            "\n",
            "Epoch 00001: saving model to training_2/cp-0001.ckpt\n",
            "\n",
            "Epoch 00001: saving model to training_2/cp-0001.ckpt\n",
            "\n",
            "Epoch 00001: saving model to training_2/cp-0001.ckpt\n",
            "\n",
            "Epoch 00001: saving model to training_2/cp-0001.ckpt\n",
            "\n",
            "Epoch 00001: saving model to training_2/cp-0001.ckpt\n",
            "\n",
            "Epoch 00001: saving model to training_2/cp-0001.ckpt\n",
            "\n",
            "Epoch 00001: saving model to training_2/cp-0001.ckpt\n",
            "\n",
            "Epoch 00001: saving model to training_2/cp-0001.ckpt\n",
            "\n",
            "Epoch 00001: saving model to training_2/cp-0001.ckpt\n",
            "\n",
            "Epoch 00001: saving model to training_2/cp-0001.ckpt\n",
            "\n",
            "Epoch 00001: saving model to training_2/cp-0001.ckpt\n",
            "\n",
            "Epoch 00001: saving model to training_2/cp-0001.ckpt\n",
            "\n",
            "Epoch 00001: saving model to training_2/cp-0001.ckpt\n",
            "\n",
            "Epoch 00001: saving model to training_2/cp-0001.ckpt\n",
            "\n",
            "Epoch 00001: saving model to training_2/cp-0001.ckpt\n",
            "\n",
            "Epoch 00001: saving model to training_2/cp-0001.ckpt\n",
            "\n",
            "Epoch 00001: saving model to training_2/cp-0001.ckpt\n",
            "\n",
            "Epoch 00001: saving model to training_2/cp-0001.ckpt\n",
            "\n",
            "Epoch 00001: saving model to training_2/cp-0001.ckpt\n",
            "\n",
            "Epoch 00002: saving model to training_2/cp-0002.ckpt\n",
            "\n",
            "Epoch 00002: saving model to training_2/cp-0002.ckpt\n",
            "\n",
            "Epoch 00002: saving model to training_2/cp-0002.ckpt\n",
            "\n",
            "Epoch 00002: saving model to training_2/cp-0002.ckpt\n",
            "\n",
            "Epoch 00002: saving model to training_2/cp-0002.ckpt\n",
            "\n",
            "Epoch 00002: saving model to training_2/cp-0002.ckpt\n",
            "\n",
            "Epoch 00002: saving model to training_2/cp-0002.ckpt\n",
            "\n",
            "Epoch 00002: saving model to training_2/cp-0002.ckpt\n",
            "\n",
            "Epoch 00002: saving model to training_2/cp-0002.ckpt\n",
            "\n",
            "Epoch 00002: saving model to training_2/cp-0002.ckpt\n",
            "\n",
            "Epoch 00002: saving model to training_2/cp-0002.ckpt\n",
            "\n",
            "Epoch 00002: saving model to training_2/cp-0002.ckpt\n",
            "\n",
            "Epoch 00002: saving model to training_2/cp-0002.ckpt\n",
            "\n",
            "Epoch 00002: saving model to training_2/cp-0002.ckpt\n",
            "\n",
            "Epoch 00002: saving model to training_2/cp-0002.ckpt\n",
            "\n",
            "Epoch 00002: saving model to training_2/cp-0002.ckpt\n",
            "\n",
            "Epoch 00002: saving model to training_2/cp-0002.ckpt\n",
            "\n",
            "Epoch 00002: saving model to training_2/cp-0002.ckpt\n",
            "\n",
            "Epoch 00002: saving model to training_2/cp-0002.ckpt\n",
            "\n",
            "Epoch 00002: saving model to training_2/cp-0002.ckpt\n",
            "\n",
            "Epoch 00002: saving model to training_2/cp-0002.ckpt\n",
            "\n",
            "Epoch 00002: saving model to training_2/cp-0002.ckpt\n",
            "\n",
            "Epoch 00002: saving model to training_2/cp-0002.ckpt\n",
            "\n",
            "Epoch 00002: saving model to training_2/cp-0002.ckpt\n",
            "\n",
            "Epoch 00002: saving model to training_2/cp-0002.ckpt\n",
            "\n",
            "Epoch 00002: saving model to training_2/cp-0002.ckpt\n",
            "\n",
            "Epoch 00002: saving model to training_2/cp-0002.ckpt\n",
            "\n",
            "Epoch 00002: saving model to training_2/cp-0002.ckpt\n",
            "\n",
            "Epoch 00002: saving model to training_2/cp-0002.ckpt\n",
            "\n",
            "Epoch 00002: saving model to training_2/cp-0002.ckpt\n",
            "\n",
            "Epoch 00002: saving model to training_2/cp-0002.ckpt\n",
            "\n",
            "Epoch 00002: saving model to training_2/cp-0002.ckpt\n",
            "\n",
            "Epoch 00002: saving model to training_2/cp-0002.ckpt\n",
            "\n",
            "Epoch 00002: saving model to training_2/cp-0002.ckpt\n",
            "\n",
            "Epoch 00002: saving model to training_2/cp-0002.ckpt\n",
            "\n",
            "Epoch 00002: saving model to training_2/cp-0002.ckpt\n",
            "\n",
            "Epoch 00002: saving model to training_2/cp-0002.ckpt\n",
            "\n",
            "Epoch 00002: saving model to training_2/cp-0002.ckpt\n",
            "\n",
            "Epoch 00002: saving model to training_2/cp-0002.ckpt\n",
            "\n",
            "Epoch 00002: saving model to training_2/cp-0002.ckpt\n",
            "\n",
            "Epoch 00002: saving model to training_2/cp-0002.ckpt\n",
            "\n",
            "Epoch 00002: saving model to training_2/cp-0002.ckpt\n",
            "\n",
            "Epoch 00002: saving model to training_2/cp-0002.ckpt\n",
            "\n",
            "Epoch 00002: saving model to training_2/cp-0002.ckpt\n",
            "\n",
            "Epoch 00002: saving model to training_2/cp-0002.ckpt\n",
            "\n",
            "Epoch 00002: saving model to training_2/cp-0002.ckpt\n",
            "\n",
            "Epoch 00002: saving model to training_2/cp-0002.ckpt\n",
            "\n",
            "Epoch 00002: saving model to training_2/cp-0002.ckpt\n",
            "\n",
            "Epoch 00002: saving model to training_2/cp-0002.ckpt\n",
            "\n",
            "Epoch 00002: saving model to training_2/cp-0002.ckpt\n",
            "\n",
            "Epoch 00002: saving model to training_2/cp-0002.ckpt\n",
            "\n",
            "Epoch 00002: saving model to training_2/cp-0002.ckpt\n",
            "\n",
            "Epoch 00002: saving model to training_2/cp-0002.ckpt\n",
            "\n",
            "Epoch 00002: saving model to training_2/cp-0002.ckpt\n",
            "\n",
            "Epoch 00002: saving model to training_2/cp-0002.ckpt\n",
            "\n",
            "Epoch 00002: saving model to training_2/cp-0002.ckpt\n",
            "\n",
            "Epoch 00002: saving model to training_2/cp-0002.ckpt\n",
            "\n",
            "Epoch 00002: saving model to training_2/cp-0002.ckpt\n",
            "\n",
            "Epoch 00002: saving model to training_2/cp-0002.ckpt\n",
            "\n",
            "Epoch 00003: saving model to training_2/cp-0003.ckpt\n",
            "\n",
            "Epoch 00003: saving model to training_2/cp-0003.ckpt\n",
            "\n",
            "Epoch 00003: saving model to training_2/cp-0003.ckpt\n",
            "\n",
            "Epoch 00003: saving model to training_2/cp-0003.ckpt\n",
            "\n",
            "Epoch 00003: saving model to training_2/cp-0003.ckpt\n",
            "\n",
            "Epoch 00003: saving model to training_2/cp-0003.ckpt\n",
            "\n",
            "Epoch 00003: saving model to training_2/cp-0003.ckpt\n",
            "\n",
            "Epoch 00003: saving model to training_2/cp-0003.ckpt\n",
            "\n",
            "Epoch 00003: saving model to training_2/cp-0003.ckpt\n",
            "\n",
            "Epoch 00003: saving model to training_2/cp-0003.ckpt\n",
            "\n",
            "Epoch 00003: saving model to training_2/cp-0003.ckpt\n",
            "\n",
            "Epoch 00003: saving model to training_2/cp-0003.ckpt\n",
            "\n",
            "Epoch 00003: saving model to training_2/cp-0003.ckpt\n",
            "\n",
            "Epoch 00003: saving model to training_2/cp-0003.ckpt\n",
            "\n",
            "Epoch 00003: saving model to training_2/cp-0003.ckpt\n",
            "\n",
            "Epoch 00003: saving model to training_2/cp-0003.ckpt\n",
            "\n",
            "Epoch 00003: saving model to training_2/cp-0003.ckpt\n",
            "\n",
            "Epoch 00003: saving model to training_2/cp-0003.ckpt\n",
            "\n",
            "Epoch 00003: saving model to training_2/cp-0003.ckpt\n",
            "\n",
            "Epoch 00003: saving model to training_2/cp-0003.ckpt\n",
            "\n",
            "Epoch 00003: saving model to training_2/cp-0003.ckpt\n",
            "\n",
            "Epoch 00003: saving model to training_2/cp-0003.ckpt\n",
            "\n",
            "Epoch 00003: saving model to training_2/cp-0003.ckpt\n",
            "\n",
            "Epoch 00003: saving model to training_2/cp-0003.ckpt\n",
            "\n",
            "Epoch 00003: saving model to training_2/cp-0003.ckpt\n",
            "\n",
            "Epoch 00003: saving model to training_2/cp-0003.ckpt\n",
            "\n",
            "Epoch 00003: saving model to training_2/cp-0003.ckpt\n",
            "\n",
            "Epoch 00003: saving model to training_2/cp-0003.ckpt\n",
            "\n",
            "Epoch 00003: saving model to training_2/cp-0003.ckpt\n",
            "\n",
            "Epoch 00003: saving model to training_2/cp-0003.ckpt\n",
            "\n",
            "Epoch 00003: saving model to training_2/cp-0003.ckpt\n",
            "\n",
            "Epoch 00003: saving model to training_2/cp-0003.ckpt\n",
            "\n",
            "Epoch 00003: saving model to training_2/cp-0003.ckpt\n",
            "\n",
            "Epoch 00003: saving model to training_2/cp-0003.ckpt\n",
            "\n",
            "Epoch 00003: saving model to training_2/cp-0003.ckpt\n",
            "\n",
            "Epoch 00003: saving model to training_2/cp-0003.ckpt\n",
            "\n",
            "Epoch 00003: saving model to training_2/cp-0003.ckpt\n",
            "\n",
            "Epoch 00003: saving model to training_2/cp-0003.ckpt\n",
            "\n",
            "Epoch 00003: saving model to training_2/cp-0003.ckpt\n",
            "\n",
            "Epoch 00003: saving model to training_2/cp-0003.ckpt\n",
            "\n",
            "Epoch 00003: saving model to training_2/cp-0003.ckpt\n",
            "\n",
            "Epoch 00003: saving model to training_2/cp-0003.ckpt\n",
            "\n",
            "Epoch 00003: saving model to training_2/cp-0003.ckpt\n",
            "\n",
            "Epoch 00003: saving model to training_2/cp-0003.ckpt\n",
            "\n",
            "Epoch 00003: saving model to training_2/cp-0003.ckpt\n",
            "\n",
            "Epoch 00003: saving model to training_2/cp-0003.ckpt\n",
            "\n",
            "Epoch 00003: saving model to training_2/cp-0003.ckpt\n",
            "\n",
            "Epoch 00003: saving model to training_2/cp-0003.ckpt\n",
            "\n",
            "Epoch 00003: saving model to training_2/cp-0003.ckpt\n",
            "\n",
            "Epoch 00003: saving model to training_2/cp-0003.ckpt\n",
            "\n",
            "Epoch 00003: saving model to training_2/cp-0003.ckpt\n",
            "\n",
            "Epoch 00003: saving model to training_2/cp-0003.ckpt\n",
            "\n",
            "Epoch 00003: saving model to training_2/cp-0003.ckpt\n",
            "\n",
            "Epoch 00003: saving model to training_2/cp-0003.ckpt\n",
            "\n",
            "Epoch 00003: saving model to training_2/cp-0003.ckpt\n",
            "\n",
            "Epoch 00003: saving model to training_2/cp-0003.ckpt\n",
            "\n",
            "Epoch 00003: saving model to training_2/cp-0003.ckpt\n",
            "\n",
            "Epoch 00003: saving model to training_2/cp-0003.ckpt\n",
            "\n",
            "Epoch 00004: saving model to training_2/cp-0004.ckpt\n",
            "\n",
            "Epoch 00004: saving model to training_2/cp-0004.ckpt\n",
            "\n",
            "Epoch 00004: saving model to training_2/cp-0004.ckpt\n",
            "\n",
            "Epoch 00004: saving model to training_2/cp-0004.ckpt\n",
            "\n",
            "Epoch 00004: saving model to training_2/cp-0004.ckpt\n",
            "\n",
            "Epoch 00004: saving model to training_2/cp-0004.ckpt\n",
            "\n",
            "Epoch 00004: saving model to training_2/cp-0004.ckpt\n",
            "\n",
            "Epoch 00004: saving model to training_2/cp-0004.ckpt\n",
            "\n",
            "Epoch 00004: saving model to training_2/cp-0004.ckpt\n",
            "\n",
            "Epoch 00004: saving model to training_2/cp-0004.ckpt\n",
            "\n",
            "Epoch 00004: saving model to training_2/cp-0004.ckpt\n",
            "\n",
            "Epoch 00004: saving model to training_2/cp-0004.ckpt\n",
            "\n",
            "Epoch 00004: saving model to training_2/cp-0004.ckpt\n",
            "\n",
            "Epoch 00004: saving model to training_2/cp-0004.ckpt\n",
            "\n",
            "Epoch 00004: saving model to training_2/cp-0004.ckpt\n",
            "\n",
            "Epoch 00004: saving model to training_2/cp-0004.ckpt\n",
            "\n",
            "Epoch 00004: saving model to training_2/cp-0004.ckpt\n",
            "\n",
            "Epoch 00004: saving model to training_2/cp-0004.ckpt\n",
            "\n",
            "Epoch 00004: saving model to training_2/cp-0004.ckpt\n",
            "\n",
            "Epoch 00004: saving model to training_2/cp-0004.ckpt\n",
            "\n",
            "Epoch 00004: saving model to training_2/cp-0004.ckpt\n",
            "\n",
            "Epoch 00004: saving model to training_2/cp-0004.ckpt\n",
            "\n",
            "Epoch 00004: saving model to training_2/cp-0004.ckpt\n",
            "\n",
            "Epoch 00004: saving model to training_2/cp-0004.ckpt\n",
            "\n",
            "Epoch 00004: saving model to training_2/cp-0004.ckpt\n",
            "\n",
            "Epoch 00004: saving model to training_2/cp-0004.ckpt\n",
            "\n",
            "Epoch 00004: saving model to training_2/cp-0004.ckpt\n",
            "\n",
            "Epoch 00004: saving model to training_2/cp-0004.ckpt\n",
            "\n",
            "Epoch 00004: saving model to training_2/cp-0004.ckpt\n",
            "\n",
            "Epoch 00004: saving model to training_2/cp-0004.ckpt\n",
            "\n",
            "Epoch 00004: saving model to training_2/cp-0004.ckpt\n",
            "\n",
            "Epoch 00004: saving model to training_2/cp-0004.ckpt\n",
            "\n",
            "Epoch 00004: saving model to training_2/cp-0004.ckpt\n",
            "\n",
            "Epoch 00004: saving model to training_2/cp-0004.ckpt\n",
            "\n",
            "Epoch 00004: saving model to training_2/cp-0004.ckpt\n",
            "\n",
            "Epoch 00004: saving model to training_2/cp-0004.ckpt\n",
            "\n",
            "Epoch 00004: saving model to training_2/cp-0004.ckpt\n",
            "\n",
            "Epoch 00004: saving model to training_2/cp-0004.ckpt\n",
            "\n",
            "Epoch 00004: saving model to training_2/cp-0004.ckpt\n",
            "\n",
            "Epoch 00004: saving model to training_2/cp-0004.ckpt\n",
            "\n",
            "Epoch 00004: saving model to training_2/cp-0004.ckpt\n",
            "\n",
            "Epoch 00004: saving model to training_2/cp-0004.ckpt\n",
            "\n",
            "Epoch 00004: saving model to training_2/cp-0004.ckpt\n",
            "\n",
            "Epoch 00004: saving model to training_2/cp-0004.ckpt\n",
            "\n",
            "Epoch 00004: saving model to training_2/cp-0004.ckpt\n",
            "\n",
            "Epoch 00004: saving model to training_2/cp-0004.ckpt\n",
            "\n",
            "Epoch 00004: saving model to training_2/cp-0004.ckpt\n",
            "\n",
            "Epoch 00004: saving model to training_2/cp-0004.ckpt\n",
            "\n",
            "Epoch 00004: saving model to training_2/cp-0004.ckpt\n",
            "\n",
            "Epoch 00004: saving model to training_2/cp-0004.ckpt\n",
            "\n",
            "Epoch 00004: saving model to training_2/cp-0004.ckpt\n",
            "\n",
            "Epoch 00004: saving model to training_2/cp-0004.ckpt\n",
            "\n",
            "Epoch 00004: saving model to training_2/cp-0004.ckpt\n",
            "\n",
            "Epoch 00004: saving model to training_2/cp-0004.ckpt\n",
            "\n",
            "Epoch 00004: saving model to training_2/cp-0004.ckpt\n",
            "\n",
            "Epoch 00004: saving model to training_2/cp-0004.ckpt\n",
            "\n",
            "Epoch 00004: saving model to training_2/cp-0004.ckpt\n",
            "\n",
            "Epoch 00004: saving model to training_2/cp-0004.ckpt\n",
            "\n",
            "Epoch 00004: saving model to training_2/cp-0004.ckpt\n",
            "\n",
            "Epoch 00005: saving model to training_2/cp-0005.ckpt\n",
            "\n",
            "Epoch 00005: saving model to training_2/cp-0005.ckpt\n",
            "\n",
            "Epoch 00005: saving model to training_2/cp-0005.ckpt\n",
            "\n",
            "Epoch 00005: saving model to training_2/cp-0005.ckpt\n",
            "\n",
            "Epoch 00005: saving model to training_2/cp-0005.ckpt\n",
            "\n",
            "Epoch 00005: saving model to training_2/cp-0005.ckpt\n",
            "\n",
            "Epoch 00005: saving model to training_2/cp-0005.ckpt\n",
            "\n",
            "Epoch 00005: saving model to training_2/cp-0005.ckpt\n",
            "\n",
            "Epoch 00005: saving model to training_2/cp-0005.ckpt\n",
            "\n",
            "Epoch 00005: saving model to training_2/cp-0005.ckpt\n",
            "\n",
            "Epoch 00005: saving model to training_2/cp-0005.ckpt\n",
            "\n",
            "Epoch 00005: saving model to training_2/cp-0005.ckpt\n",
            "\n",
            "Epoch 00005: saving model to training_2/cp-0005.ckpt\n",
            "\n",
            "Epoch 00005: saving model to training_2/cp-0005.ckpt\n",
            "\n",
            "Epoch 00005: saving model to training_2/cp-0005.ckpt\n",
            "\n",
            "Epoch 00005: saving model to training_2/cp-0005.ckpt\n",
            "\n",
            "Epoch 00005: saving model to training_2/cp-0005.ckpt\n",
            "\n",
            "Epoch 00005: saving model to training_2/cp-0005.ckpt\n",
            "\n",
            "Epoch 00005: saving model to training_2/cp-0005.ckpt\n",
            "\n",
            "Epoch 00005: saving model to training_2/cp-0005.ckpt\n",
            "\n",
            "Epoch 00005: saving model to training_2/cp-0005.ckpt\n",
            "\n",
            "Epoch 00005: saving model to training_2/cp-0005.ckpt\n",
            "\n",
            "Epoch 00005: saving model to training_2/cp-0005.ckpt\n",
            "\n",
            "Epoch 00005: saving model to training_2/cp-0005.ckpt\n",
            "\n",
            "Epoch 00005: saving model to training_2/cp-0005.ckpt\n",
            "\n",
            "Epoch 00005: saving model to training_2/cp-0005.ckpt\n",
            "\n",
            "Epoch 00005: saving model to training_2/cp-0005.ckpt\n",
            "\n",
            "Epoch 00005: saving model to training_2/cp-0005.ckpt\n",
            "\n",
            "Epoch 00005: saving model to training_2/cp-0005.ckpt\n",
            "\n",
            "Epoch 00005: saving model to training_2/cp-0005.ckpt\n",
            "\n",
            "Epoch 00005: saving model to training_2/cp-0005.ckpt\n",
            "\n",
            "Epoch 00005: saving model to training_2/cp-0005.ckpt\n",
            "\n",
            "Epoch 00005: saving model to training_2/cp-0005.ckpt\n",
            "\n",
            "Epoch 00005: saving model to training_2/cp-0005.ckpt\n",
            "\n",
            "Epoch 00005: saving model to training_2/cp-0005.ckpt\n",
            "\n",
            "Epoch 00005: saving model to training_2/cp-0005.ckpt\n",
            "\n",
            "Epoch 00005: saving model to training_2/cp-0005.ckpt\n",
            "\n",
            "Epoch 00005: saving model to training_2/cp-0005.ckpt\n",
            "\n",
            "Epoch 00005: saving model to training_2/cp-0005.ckpt\n",
            "\n",
            "Epoch 00005: saving model to training_2/cp-0005.ckpt\n",
            "\n",
            "Epoch 00005: saving model to training_2/cp-0005.ckpt\n",
            "\n",
            "Epoch 00005: saving model to training_2/cp-0005.ckpt\n",
            "\n",
            "Epoch 00005: saving model to training_2/cp-0005.ckpt\n",
            "\n",
            "Epoch 00005: saving model to training_2/cp-0005.ckpt\n",
            "\n",
            "Epoch 00005: saving model to training_2/cp-0005.ckpt\n",
            "\n",
            "Epoch 00005: saving model to training_2/cp-0005.ckpt\n",
            "\n",
            "Epoch 00005: saving model to training_2/cp-0005.ckpt\n",
            "\n",
            "Epoch 00005: saving model to training_2/cp-0005.ckpt\n",
            "\n",
            "Epoch 00005: saving model to training_2/cp-0005.ckpt\n",
            "\n",
            "Epoch 00005: saving model to training_2/cp-0005.ckpt\n",
            "\n",
            "Epoch 00005: saving model to training_2/cp-0005.ckpt\n",
            "\n",
            "Epoch 00005: saving model to training_2/cp-0005.ckpt\n",
            "\n",
            "Epoch 00005: saving model to training_2/cp-0005.ckpt\n",
            "\n",
            "Epoch 00005: saving model to training_2/cp-0005.ckpt\n",
            "\n",
            "Epoch 00005: saving model to training_2/cp-0005.ckpt\n",
            "\n",
            "Epoch 00005: saving model to training_2/cp-0005.ckpt\n",
            "\n",
            "Epoch 00005: saving model to training_2/cp-0005.ckpt\n",
            "\n",
            "Epoch 00005: saving model to training_2/cp-0005.ckpt\n",
            "\n",
            "Epoch 00006: saving model to training_2/cp-0006.ckpt\n",
            "\n",
            "Epoch 00006: saving model to training_2/cp-0006.ckpt\n",
            "\n",
            "Epoch 00006: saving model to training_2/cp-0006.ckpt\n",
            "\n",
            "Epoch 00006: saving model to training_2/cp-0006.ckpt\n",
            "\n",
            "Epoch 00006: saving model to training_2/cp-0006.ckpt\n",
            "\n",
            "Epoch 00006: saving model to training_2/cp-0006.ckpt\n",
            "\n",
            "Epoch 00006: saving model to training_2/cp-0006.ckpt\n",
            "\n",
            "Epoch 00006: saving model to training_2/cp-0006.ckpt\n",
            "\n",
            "Epoch 00006: saving model to training_2/cp-0006.ckpt\n",
            "\n",
            "Epoch 00006: saving model to training_2/cp-0006.ckpt\n",
            "\n",
            "Epoch 00006: saving model to training_2/cp-0006.ckpt\n",
            "\n",
            "Epoch 00006: saving model to training_2/cp-0006.ckpt\n",
            "\n",
            "Epoch 00006: saving model to training_2/cp-0006.ckpt\n",
            "\n",
            "Epoch 00006: saving model to training_2/cp-0006.ckpt\n",
            "\n",
            "Epoch 00006: saving model to training_2/cp-0006.ckpt\n",
            "\n",
            "Epoch 00006: saving model to training_2/cp-0006.ckpt\n",
            "\n",
            "Epoch 00006: saving model to training_2/cp-0006.ckpt\n",
            "\n",
            "Epoch 00006: saving model to training_2/cp-0006.ckpt\n",
            "\n",
            "Epoch 00006: saving model to training_2/cp-0006.ckpt\n",
            "\n",
            "Epoch 00006: saving model to training_2/cp-0006.ckpt\n",
            "\n",
            "Epoch 00006: saving model to training_2/cp-0006.ckpt\n",
            "\n",
            "Epoch 00006: saving model to training_2/cp-0006.ckpt\n",
            "\n",
            "Epoch 00006: saving model to training_2/cp-0006.ckpt\n",
            "\n",
            "Epoch 00006: saving model to training_2/cp-0006.ckpt\n",
            "\n",
            "Epoch 00006: saving model to training_2/cp-0006.ckpt\n",
            "\n",
            "Epoch 00006: saving model to training_2/cp-0006.ckpt\n",
            "\n",
            "Epoch 00006: saving model to training_2/cp-0006.ckpt\n",
            "\n",
            "Epoch 00006: saving model to training_2/cp-0006.ckpt\n",
            "\n",
            "Epoch 00006: saving model to training_2/cp-0006.ckpt\n",
            "\n",
            "Epoch 00006: saving model to training_2/cp-0006.ckpt\n",
            "\n",
            "Epoch 00006: saving model to training_2/cp-0006.ckpt\n",
            "\n",
            "Epoch 00006: saving model to training_2/cp-0006.ckpt\n",
            "\n",
            "Epoch 00006: saving model to training_2/cp-0006.ckpt\n",
            "\n",
            "Epoch 00006: saving model to training_2/cp-0006.ckpt\n",
            "\n",
            "Epoch 00006: saving model to training_2/cp-0006.ckpt\n",
            "\n",
            "Epoch 00006: saving model to training_2/cp-0006.ckpt\n",
            "\n",
            "Epoch 00006: saving model to training_2/cp-0006.ckpt\n",
            "\n",
            "Epoch 00006: saving model to training_2/cp-0006.ckpt\n",
            "\n",
            "Epoch 00006: saving model to training_2/cp-0006.ckpt\n",
            "\n",
            "Epoch 00006: saving model to training_2/cp-0006.ckpt\n",
            "\n",
            "Epoch 00006: saving model to training_2/cp-0006.ckpt\n",
            "\n",
            "Epoch 00006: saving model to training_2/cp-0006.ckpt\n",
            "\n",
            "Epoch 00006: saving model to training_2/cp-0006.ckpt\n",
            "\n",
            "Epoch 00006: saving model to training_2/cp-0006.ckpt\n",
            "\n",
            "Epoch 00006: saving model to training_2/cp-0006.ckpt\n",
            "\n",
            "Epoch 00006: saving model to training_2/cp-0006.ckpt\n",
            "\n",
            "Epoch 00006: saving model to training_2/cp-0006.ckpt\n",
            "\n",
            "Epoch 00006: saving model to training_2/cp-0006.ckpt\n",
            "\n",
            "Epoch 00006: saving model to training_2/cp-0006.ckpt\n",
            "\n",
            "Epoch 00006: saving model to training_2/cp-0006.ckpt\n",
            "\n",
            "Epoch 00006: saving model to training_2/cp-0006.ckpt\n",
            "\n",
            "Epoch 00006: saving model to training_2/cp-0006.ckpt\n",
            "\n",
            "Epoch 00006: saving model to training_2/cp-0006.ckpt\n",
            "\n",
            "Epoch 00006: saving model to training_2/cp-0006.ckpt\n",
            "\n",
            "Epoch 00006: saving model to training_2/cp-0006.ckpt\n",
            "\n",
            "Epoch 00006: saving model to training_2/cp-0006.ckpt\n",
            "\n",
            "Epoch 00006: saving model to training_2/cp-0006.ckpt\n",
            "\n",
            "Epoch 00006: saving model to training_2/cp-0006.ckpt\n",
            "\n",
            "Epoch 00006: saving model to training_2/cp-0006.ckpt\n",
            "\n",
            "Epoch 00007: saving model to training_2/cp-0007.ckpt\n",
            "\n",
            "Epoch 00007: saving model to training_2/cp-0007.ckpt\n",
            "\n",
            "Epoch 00007: saving model to training_2/cp-0007.ckpt\n",
            "\n",
            "Epoch 00007: saving model to training_2/cp-0007.ckpt\n",
            "\n",
            "Epoch 00007: saving model to training_2/cp-0007.ckpt\n",
            "\n",
            "Epoch 00007: saving model to training_2/cp-0007.ckpt\n",
            "\n",
            "Epoch 00007: saving model to training_2/cp-0007.ckpt\n",
            "\n",
            "Epoch 00007: saving model to training_2/cp-0007.ckpt\n",
            "\n",
            "Epoch 00007: saving model to training_2/cp-0007.ckpt\n",
            "\n",
            "Epoch 00007: saving model to training_2/cp-0007.ckpt\n",
            "\n",
            "Epoch 00007: saving model to training_2/cp-0007.ckpt\n",
            "\n",
            "Epoch 00007: saving model to training_2/cp-0007.ckpt\n",
            "\n",
            "Epoch 00007: saving model to training_2/cp-0007.ckpt\n",
            "\n",
            "Epoch 00007: saving model to training_2/cp-0007.ckpt\n",
            "\n",
            "Epoch 00007: saving model to training_2/cp-0007.ckpt\n",
            "\n",
            "Epoch 00007: saving model to training_2/cp-0007.ckpt\n",
            "\n",
            "Epoch 00007: saving model to training_2/cp-0007.ckpt\n",
            "\n",
            "Epoch 00007: saving model to training_2/cp-0007.ckpt\n",
            "\n",
            "Epoch 00007: saving model to training_2/cp-0007.ckpt\n",
            "\n",
            "Epoch 00007: saving model to training_2/cp-0007.ckpt\n",
            "\n",
            "Epoch 00007: saving model to training_2/cp-0007.ckpt\n",
            "\n",
            "Epoch 00007: saving model to training_2/cp-0007.ckpt\n",
            "\n",
            "Epoch 00007: saving model to training_2/cp-0007.ckpt\n",
            "\n",
            "Epoch 00007: saving model to training_2/cp-0007.ckpt\n",
            "\n",
            "Epoch 00007: saving model to training_2/cp-0007.ckpt\n",
            "\n",
            "Epoch 00007: saving model to training_2/cp-0007.ckpt\n",
            "\n",
            "Epoch 00007: saving model to training_2/cp-0007.ckpt\n",
            "\n",
            "Epoch 00007: saving model to training_2/cp-0007.ckpt\n",
            "\n",
            "Epoch 00007: saving model to training_2/cp-0007.ckpt\n",
            "\n",
            "Epoch 00007: saving model to training_2/cp-0007.ckpt\n",
            "\n",
            "Epoch 00007: saving model to training_2/cp-0007.ckpt\n",
            "\n",
            "Epoch 00007: saving model to training_2/cp-0007.ckpt\n",
            "\n",
            "Epoch 00007: saving model to training_2/cp-0007.ckpt\n",
            "\n",
            "Epoch 00007: saving model to training_2/cp-0007.ckpt\n",
            "\n",
            "Epoch 00007: saving model to training_2/cp-0007.ckpt\n",
            "\n",
            "Epoch 00007: saving model to training_2/cp-0007.ckpt\n",
            "\n",
            "Epoch 00007: saving model to training_2/cp-0007.ckpt\n",
            "\n",
            "Epoch 00007: saving model to training_2/cp-0007.ckpt\n",
            "\n",
            "Epoch 00007: saving model to training_2/cp-0007.ckpt\n",
            "\n",
            "Epoch 00007: saving model to training_2/cp-0007.ckpt\n",
            "\n",
            "Epoch 00007: saving model to training_2/cp-0007.ckpt\n",
            "\n",
            "Epoch 00007: saving model to training_2/cp-0007.ckpt\n",
            "\n",
            "Epoch 00007: saving model to training_2/cp-0007.ckpt\n",
            "\n",
            "Epoch 00007: saving model to training_2/cp-0007.ckpt\n",
            "\n",
            "Epoch 00007: saving model to training_2/cp-0007.ckpt\n",
            "\n",
            "Epoch 00007: saving model to training_2/cp-0007.ckpt\n",
            "\n",
            "Epoch 00007: saving model to training_2/cp-0007.ckpt\n",
            "\n",
            "Epoch 00007: saving model to training_2/cp-0007.ckpt\n",
            "\n",
            "Epoch 00007: saving model to training_2/cp-0007.ckpt\n",
            "\n",
            "Epoch 00007: saving model to training_2/cp-0007.ckpt\n",
            "\n",
            "Epoch 00007: saving model to training_2/cp-0007.ckpt\n",
            "\n",
            "Epoch 00007: saving model to training_2/cp-0007.ckpt\n",
            "\n",
            "Epoch 00007: saving model to training_2/cp-0007.ckpt\n",
            "\n",
            "Epoch 00007: saving model to training_2/cp-0007.ckpt\n",
            "\n",
            "Epoch 00007: saving model to training_2/cp-0007.ckpt\n",
            "\n",
            "Epoch 00007: saving model to training_2/cp-0007.ckpt\n",
            "\n",
            "Epoch 00007: saving model to training_2/cp-0007.ckpt\n",
            "\n",
            "Epoch 00007: saving model to training_2/cp-0007.ckpt\n",
            "\n",
            "Epoch 00008: saving model to training_2/cp-0008.ckpt\n",
            "\n",
            "Epoch 00008: saving model to training_2/cp-0008.ckpt\n",
            "\n",
            "Epoch 00008: saving model to training_2/cp-0008.ckpt\n",
            "\n",
            "Epoch 00008: saving model to training_2/cp-0008.ckpt\n",
            "\n",
            "Epoch 00008: saving model to training_2/cp-0008.ckpt\n",
            "\n",
            "Epoch 00008: saving model to training_2/cp-0008.ckpt\n",
            "\n",
            "Epoch 00008: saving model to training_2/cp-0008.ckpt\n",
            "\n",
            "Epoch 00008: saving model to training_2/cp-0008.ckpt\n",
            "\n",
            "Epoch 00008: saving model to training_2/cp-0008.ckpt\n",
            "\n",
            "Epoch 00008: saving model to training_2/cp-0008.ckpt\n",
            "\n",
            "Epoch 00008: saving model to training_2/cp-0008.ckpt\n",
            "\n",
            "Epoch 00008: saving model to training_2/cp-0008.ckpt\n",
            "\n",
            "Epoch 00008: saving model to training_2/cp-0008.ckpt\n",
            "\n",
            "Epoch 00008: saving model to training_2/cp-0008.ckpt\n",
            "\n",
            "Epoch 00008: saving model to training_2/cp-0008.ckpt\n",
            "\n",
            "Epoch 00008: saving model to training_2/cp-0008.ckpt\n",
            "\n",
            "Epoch 00008: saving model to training_2/cp-0008.ckpt\n",
            "\n",
            "Epoch 00008: saving model to training_2/cp-0008.ckpt\n",
            "\n",
            "Epoch 00008: saving model to training_2/cp-0008.ckpt\n",
            "\n",
            "Epoch 00008: saving model to training_2/cp-0008.ckpt\n",
            "\n",
            "Epoch 00008: saving model to training_2/cp-0008.ckpt\n",
            "\n",
            "Epoch 00008: saving model to training_2/cp-0008.ckpt\n",
            "\n",
            "Epoch 00008: saving model to training_2/cp-0008.ckpt\n",
            "\n",
            "Epoch 00008: saving model to training_2/cp-0008.ckpt\n",
            "\n",
            "Epoch 00008: saving model to training_2/cp-0008.ckpt\n",
            "\n",
            "Epoch 00008: saving model to training_2/cp-0008.ckpt\n",
            "\n",
            "Epoch 00008: saving model to training_2/cp-0008.ckpt\n",
            "\n",
            "Epoch 00008: saving model to training_2/cp-0008.ckpt\n",
            "\n",
            "Epoch 00008: saving model to training_2/cp-0008.ckpt\n",
            "\n",
            "Epoch 00008: saving model to training_2/cp-0008.ckpt\n",
            "\n",
            "Epoch 00008: saving model to training_2/cp-0008.ckpt\n",
            "\n",
            "Epoch 00008: saving model to training_2/cp-0008.ckpt\n",
            "\n",
            "Epoch 00008: saving model to training_2/cp-0008.ckpt\n",
            "\n",
            "Epoch 00008: saving model to training_2/cp-0008.ckpt\n",
            "\n",
            "Epoch 00008: saving model to training_2/cp-0008.ckpt\n",
            "\n",
            "Epoch 00008: saving model to training_2/cp-0008.ckpt\n",
            "\n",
            "Epoch 00008: saving model to training_2/cp-0008.ckpt\n",
            "\n",
            "Epoch 00008: saving model to training_2/cp-0008.ckpt\n",
            "\n",
            "Epoch 00008: saving model to training_2/cp-0008.ckpt\n",
            "\n",
            "Epoch 00008: saving model to training_2/cp-0008.ckpt\n",
            "\n",
            "Epoch 00008: saving model to training_2/cp-0008.ckpt\n",
            "\n",
            "Epoch 00008: saving model to training_2/cp-0008.ckpt\n",
            "\n",
            "Epoch 00008: saving model to training_2/cp-0008.ckpt\n",
            "\n",
            "Epoch 00008: saving model to training_2/cp-0008.ckpt\n",
            "\n",
            "Epoch 00008: saving model to training_2/cp-0008.ckpt\n",
            "\n",
            "Epoch 00008: saving model to training_2/cp-0008.ckpt\n",
            "\n",
            "Epoch 00008: saving model to training_2/cp-0008.ckpt\n",
            "\n",
            "Epoch 00008: saving model to training_2/cp-0008.ckpt\n",
            "\n",
            "Epoch 00008: saving model to training_2/cp-0008.ckpt\n",
            "\n",
            "Epoch 00008: saving model to training_2/cp-0008.ckpt\n",
            "\n",
            "Epoch 00008: saving model to training_2/cp-0008.ckpt\n",
            "\n",
            "Epoch 00008: saving model to training_2/cp-0008.ckpt\n",
            "\n",
            "Epoch 00008: saving model to training_2/cp-0008.ckpt\n",
            "\n",
            "Epoch 00008: saving model to training_2/cp-0008.ckpt\n",
            "\n",
            "Epoch 00008: saving model to training_2/cp-0008.ckpt\n",
            "\n",
            "Epoch 00008: saving model to training_2/cp-0008.ckpt\n",
            "\n",
            "Epoch 00008: saving model to training_2/cp-0008.ckpt\n",
            "\n",
            "Epoch 00008: saving model to training_2/cp-0008.ckpt\n",
            "\n",
            "Epoch 00008: saving model to training_2/cp-0008.ckpt\n",
            "\n",
            "Epoch 00009: saving model to training_2/cp-0009.ckpt\n",
            "\n",
            "Epoch 00009: saving model to training_2/cp-0009.ckpt\n",
            "\n",
            "Epoch 00009: saving model to training_2/cp-0009.ckpt\n",
            "\n",
            "Epoch 00009: saving model to training_2/cp-0009.ckpt\n",
            "\n",
            "Epoch 00009: saving model to training_2/cp-0009.ckpt\n",
            "\n",
            "Epoch 00009: saving model to training_2/cp-0009.ckpt\n",
            "\n",
            "Epoch 00009: saving model to training_2/cp-0009.ckpt\n",
            "\n",
            "Epoch 00009: saving model to training_2/cp-0009.ckpt\n",
            "\n",
            "Epoch 00009: saving model to training_2/cp-0009.ckpt\n",
            "\n",
            "Epoch 00009: saving model to training_2/cp-0009.ckpt\n",
            "\n",
            "Epoch 00009: saving model to training_2/cp-0009.ckpt\n",
            "\n",
            "Epoch 00009: saving model to training_2/cp-0009.ckpt\n",
            "\n",
            "Epoch 00009: saving model to training_2/cp-0009.ckpt\n",
            "\n",
            "Epoch 00009: saving model to training_2/cp-0009.ckpt\n",
            "\n",
            "Epoch 00009: saving model to training_2/cp-0009.ckpt\n",
            "\n",
            "Epoch 00009: saving model to training_2/cp-0009.ckpt\n",
            "\n",
            "Epoch 00009: saving model to training_2/cp-0009.ckpt\n",
            "\n",
            "Epoch 00009: saving model to training_2/cp-0009.ckpt\n",
            "\n",
            "Epoch 00009: saving model to training_2/cp-0009.ckpt\n",
            "\n",
            "Epoch 00009: saving model to training_2/cp-0009.ckpt\n",
            "\n",
            "Epoch 00009: saving model to training_2/cp-0009.ckpt\n",
            "\n",
            "Epoch 00009: saving model to training_2/cp-0009.ckpt\n",
            "\n",
            "Epoch 00009: saving model to training_2/cp-0009.ckpt\n",
            "\n",
            "Epoch 00009: saving model to training_2/cp-0009.ckpt\n",
            "\n",
            "Epoch 00009: saving model to training_2/cp-0009.ckpt\n",
            "\n",
            "Epoch 00009: saving model to training_2/cp-0009.ckpt\n",
            "\n",
            "Epoch 00009: saving model to training_2/cp-0009.ckpt\n",
            "\n",
            "Epoch 00009: saving model to training_2/cp-0009.ckpt\n",
            "\n",
            "Epoch 00009: saving model to training_2/cp-0009.ckpt\n",
            "\n",
            "Epoch 00009: saving model to training_2/cp-0009.ckpt\n",
            "\n",
            "Epoch 00009: saving model to training_2/cp-0009.ckpt\n",
            "\n",
            "Epoch 00009: saving model to training_2/cp-0009.ckpt\n",
            "\n",
            "Epoch 00009: saving model to training_2/cp-0009.ckpt\n",
            "\n",
            "Epoch 00009: saving model to training_2/cp-0009.ckpt\n",
            "\n",
            "Epoch 00009: saving model to training_2/cp-0009.ckpt\n",
            "\n",
            "Epoch 00009: saving model to training_2/cp-0009.ckpt\n",
            "\n",
            "Epoch 00009: saving model to training_2/cp-0009.ckpt\n",
            "\n",
            "Epoch 00009: saving model to training_2/cp-0009.ckpt\n",
            "\n",
            "Epoch 00009: saving model to training_2/cp-0009.ckpt\n",
            "\n",
            "Epoch 00009: saving model to training_2/cp-0009.ckpt\n",
            "\n",
            "Epoch 00009: saving model to training_2/cp-0009.ckpt\n",
            "\n",
            "Epoch 00009: saving model to training_2/cp-0009.ckpt\n",
            "\n",
            "Epoch 00009: saving model to training_2/cp-0009.ckpt\n",
            "\n",
            "Epoch 00009: saving model to training_2/cp-0009.ckpt\n",
            "\n",
            "Epoch 00009: saving model to training_2/cp-0009.ckpt\n",
            "\n",
            "Epoch 00009: saving model to training_2/cp-0009.ckpt\n",
            "\n",
            "Epoch 00009: saving model to training_2/cp-0009.ckpt\n",
            "\n",
            "Epoch 00009: saving model to training_2/cp-0009.ckpt\n",
            "\n",
            "Epoch 00009: saving model to training_2/cp-0009.ckpt\n",
            "\n",
            "Epoch 00009: saving model to training_2/cp-0009.ckpt\n",
            "\n",
            "Epoch 00009: saving model to training_2/cp-0009.ckpt\n",
            "\n",
            "Epoch 00009: saving model to training_2/cp-0009.ckpt\n",
            "\n",
            "Epoch 00009: saving model to training_2/cp-0009.ckpt\n",
            "\n",
            "Epoch 00009: saving model to training_2/cp-0009.ckpt\n",
            "\n",
            "Epoch 00009: saving model to training_2/cp-0009.ckpt\n",
            "\n",
            "Epoch 00009: saving model to training_2/cp-0009.ckpt\n",
            "\n",
            "Epoch 00009: saving model to training_2/cp-0009.ckpt\n",
            "\n",
            "Epoch 00009: saving model to training_2/cp-0009.ckpt\n",
            "\n",
            "Epoch 00010: saving model to training_2/cp-0010.ckpt\n",
            "\n",
            "Epoch 00010: saving model to training_2/cp-0010.ckpt\n",
            "\n",
            "Epoch 00010: saving model to training_2/cp-0010.ckpt\n",
            "\n",
            "Epoch 00010: saving model to training_2/cp-0010.ckpt\n",
            "\n",
            "Epoch 00010: saving model to training_2/cp-0010.ckpt\n",
            "\n",
            "Epoch 00010: saving model to training_2/cp-0010.ckpt\n",
            "\n",
            "Epoch 00010: saving model to training_2/cp-0010.ckpt\n",
            "\n",
            "Epoch 00010: saving model to training_2/cp-0010.ckpt\n",
            "\n",
            "Epoch 00010: saving model to training_2/cp-0010.ckpt\n",
            "\n",
            "Epoch 00010: saving model to training_2/cp-0010.ckpt\n",
            "\n",
            "Epoch 00010: saving model to training_2/cp-0010.ckpt\n",
            "\n",
            "Epoch 00010: saving model to training_2/cp-0010.ckpt\n",
            "\n",
            "Epoch 00010: saving model to training_2/cp-0010.ckpt\n",
            "\n",
            "Epoch 00010: saving model to training_2/cp-0010.ckpt\n",
            "\n",
            "Epoch 00010: saving model to training_2/cp-0010.ckpt\n",
            "\n",
            "Epoch 00010: saving model to training_2/cp-0010.ckpt\n",
            "\n",
            "Epoch 00010: saving model to training_2/cp-0010.ckpt\n",
            "\n",
            "Epoch 00010: saving model to training_2/cp-0010.ckpt\n",
            "\n",
            "Epoch 00010: saving model to training_2/cp-0010.ckpt\n",
            "\n",
            "Epoch 00010: saving model to training_2/cp-0010.ckpt\n",
            "\n",
            "Epoch 00010: saving model to training_2/cp-0010.ckpt\n",
            "\n",
            "Epoch 00010: saving model to training_2/cp-0010.ckpt\n",
            "\n",
            "Epoch 00010: saving model to training_2/cp-0010.ckpt\n",
            "\n",
            "Epoch 00010: saving model to training_2/cp-0010.ckpt\n",
            "\n",
            "Epoch 00010: saving model to training_2/cp-0010.ckpt\n",
            "\n",
            "Epoch 00010: saving model to training_2/cp-0010.ckpt\n",
            "\n",
            "Epoch 00010: saving model to training_2/cp-0010.ckpt\n",
            "\n",
            "Epoch 00010: saving model to training_2/cp-0010.ckpt\n",
            "\n",
            "Epoch 00010: saving model to training_2/cp-0010.ckpt\n",
            "\n",
            "Epoch 00010: saving model to training_2/cp-0010.ckpt\n",
            "\n",
            "Epoch 00010: saving model to training_2/cp-0010.ckpt\n",
            "\n",
            "Epoch 00010: saving model to training_2/cp-0010.ckpt\n",
            "\n",
            "Epoch 00010: saving model to training_2/cp-0010.ckpt\n",
            "\n",
            "Epoch 00010: saving model to training_2/cp-0010.ckpt\n",
            "\n",
            "Epoch 00010: saving model to training_2/cp-0010.ckpt\n",
            "\n",
            "Epoch 00010: saving model to training_2/cp-0010.ckpt\n",
            "\n",
            "Epoch 00010: saving model to training_2/cp-0010.ckpt\n",
            "\n",
            "Epoch 00010: saving model to training_2/cp-0010.ckpt\n",
            "\n",
            "Epoch 00010: saving model to training_2/cp-0010.ckpt\n",
            "\n",
            "Epoch 00010: saving model to training_2/cp-0010.ckpt\n",
            "\n",
            "Epoch 00010: saving model to training_2/cp-0010.ckpt\n",
            "\n",
            "Epoch 00010: saving model to training_2/cp-0010.ckpt\n",
            "\n",
            "Epoch 00010: saving model to training_2/cp-0010.ckpt\n",
            "\n",
            "Epoch 00010: saving model to training_2/cp-0010.ckpt\n",
            "\n",
            "Epoch 00010: saving model to training_2/cp-0010.ckpt\n",
            "\n",
            "Epoch 00010: saving model to training_2/cp-0010.ckpt\n",
            "\n",
            "Epoch 00010: saving model to training_2/cp-0010.ckpt\n",
            "\n",
            "Epoch 00010: saving model to training_2/cp-0010.ckpt\n",
            "\n",
            "Epoch 00010: saving model to training_2/cp-0010.ckpt\n",
            "\n",
            "Epoch 00010: saving model to training_2/cp-0010.ckpt\n",
            "\n",
            "Epoch 00010: saving model to training_2/cp-0010.ckpt\n",
            "\n",
            "Epoch 00010: saving model to training_2/cp-0010.ckpt\n",
            "\n",
            "Epoch 00010: saving model to training_2/cp-0010.ckpt\n",
            "\n",
            "Epoch 00010: saving model to training_2/cp-0010.ckpt\n",
            "\n",
            "Epoch 00010: saving model to training_2/cp-0010.ckpt\n",
            "\n",
            "Epoch 00010: saving model to training_2/cp-0010.ckpt\n",
            "\n",
            "Epoch 00010: saving model to training_2/cp-0010.ckpt\n",
            "\n",
            "Epoch 00010: saving model to training_2/cp-0010.ckpt\n",
            "\n",
            "Epoch 00010: saving model to training_2/cp-0010.ckpt\n"
          ],
          "name": "stdout"
        }
      ]
    },
    {
      "cell_type": "code",
      "metadata": {
        "id": "MlPfcDVHarAb",
        "colab_type": "code",
        "colab": {
          "base_uri": "https://localhost:8080/",
          "height": 301
        },
        "outputId": "2c65fbe3-9169-4d71-a187-2a3e6ee0ba76"
      },
      "source": [
        "ls {checkpoint_dir}"
      ],
      "execution_count": 66,
      "outputs": [
        {
          "output_type": "stream",
          "text": [
            "checkpoint                        cp-0005.ckpt.data-00001-of-00002\n",
            "cp-0000.ckpt.data-00000-of-00002  cp-0005.ckpt.index\n",
            "cp-0000.ckpt.data-00001-of-00002  cp-0006.ckpt.data-00000-of-00002\n",
            "cp-0000.ckpt.index                cp-0006.ckpt.data-00001-of-00002\n",
            "cp-0001.ckpt.data-00000-of-00002  cp-0006.ckpt.index\n",
            "cp-0001.ckpt.data-00001-of-00002  cp-0007.ckpt.data-00000-of-00002\n",
            "cp-0001.ckpt.index                cp-0007.ckpt.data-00001-of-00002\n",
            "cp-0002.ckpt.data-00000-of-00002  cp-0007.ckpt.index\n",
            "cp-0002.ckpt.data-00001-of-00002  cp-0008.ckpt.data-00000-of-00002\n",
            "cp-0002.ckpt.index                cp-0008.ckpt.data-00001-of-00002\n",
            "cp-0003.ckpt.data-00000-of-00002  cp-0008.ckpt.index\n",
            "cp-0003.ckpt.data-00001-of-00002  cp-0009.ckpt.data-00000-of-00002\n",
            "cp-0003.ckpt.index                cp-0009.ckpt.data-00001-of-00002\n",
            "cp-0004.ckpt.data-00000-of-00002  cp-0009.ckpt.index\n",
            "cp-0004.ckpt.data-00001-of-00002  cp-0010.ckpt.data-00000-of-00002\n",
            "cp-0004.ckpt.index                cp-0010.ckpt.data-00001-of-00002\n",
            "cp-0005.ckpt.data-00000-of-00002  cp-0010.ckpt.index\n"
          ],
          "name": "stdout"
        }
      ]
    },
    {
      "cell_type": "code",
      "metadata": {
        "id": "JlKmjo5ja7Ih",
        "colab_type": "code",
        "colab": {
          "base_uri": "https://localhost:8080/",
          "height": 33
        },
        "outputId": "9a8ed9c5-ec5e-4978-982e-7399835a5944"
      },
      "source": [
        "latest = tf.train.latest_checkpoint(checkpoint_dir)\n",
        "latest"
      ],
      "execution_count": 67,
      "outputs": [
        {
          "output_type": "execute_result",
          "data": {
            "text/plain": [
              "'training_2/cp-0010.ckpt'"
            ]
          },
          "metadata": {
            "tags": []
          },
          "execution_count": 67
        }
      ]
    },
    {
      "cell_type": "code",
      "metadata": {
        "id": "4X4K_7DGbA_o",
        "colab_type": "code",
        "colab": {}
      },
      "source": [
        "model_3 = create_model()"
      ],
      "execution_count": 0,
      "outputs": []
    },
    {
      "cell_type": "code",
      "metadata": {
        "id": "EkOwV4dceQmj",
        "colab_type": "code",
        "colab": {
          "base_uri": "https://localhost:8080/",
          "height": 33
        },
        "outputId": "492ff11c-5753-4e53-8fe8-da975a048b9d"
      },
      "source": [
        "model_3.load_weights(latest)"
      ],
      "execution_count": 69,
      "outputs": [
        {
          "output_type": "execute_result",
          "data": {
            "text/plain": [
              "<tensorflow.python.training.tracking.util.CheckpointLoadStatus at 0x7f94a6bddcf8>"
            ]
          },
          "metadata": {
            "tags": []
          },
          "execution_count": 69
        }
      ]
    },
    {
      "cell_type": "code",
      "metadata": {
        "id": "UiV6d_YmeXFX",
        "colab_type": "code",
        "colab": {
          "base_uri": "https://localhost:8080/",
          "height": 70
        },
        "outputId": "d2253e27-0454-42f6-8b4f-0b5789be9ede"
      },
      "source": [
        "model_3.evaluate(data_test,ytest)"
      ],
      "execution_count": 72,
      "outputs": [
        {
          "output_type": "stream",
          "text": [
            "58/58 [==============================] - 1s 12ms/step - loss: 0.0846 - accuracy: 0.9734\n"
          ],
          "name": "stdout"
        },
        {
          "output_type": "execute_result",
          "data": {
            "text/plain": [
              "[0.08455293625593185, 0.9733550548553467]"
            ]
          },
          "metadata": {
            "tags": []
          },
          "execution_count": 72
        }
      ]
    },
    {
      "cell_type": "code",
      "metadata": {
        "id": "o_EKk7HeeaSz",
        "colab_type": "code",
        "colab": {}
      },
      "source": [
        ""
      ],
      "execution_count": 0,
      "outputs": []
    }
  ]
}